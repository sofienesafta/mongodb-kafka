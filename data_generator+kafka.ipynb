{
 "cells": [
  {
   "cell_type": "code",
   "execution_count": 16,
   "id": "cf54004a",
   "metadata": {},
   "outputs": [
    {
     "name": "stdout",
     "output_type": "stream",
     "text": [
      "Defaulting to user installation because normal site-packages is not writeable\n",
      "Requirement already satisfied: kafka-python in ./.local/lib/python3.8/site-packages (2.0.2)\n"
     ]
    }
   ],
   "source": [
    "!pip3 install kafka-python"
   ]
  },
  {
   "cell_type": "code",
   "execution_count": 2,
   "id": "6ff8874c",
   "metadata": {},
   "outputs": [],
   "source": [
    "from kafka import KafkaProducer\n",
    "from kafka import KafkaConsumer\n",
    "from json import loads \n",
    "import json\n",
    "import random\n",
    "import string\n",
    "import datetime\n",
    "from time import sleep"
   ]
  },
  {
   "cell_type": "code",
   "execution_count": 3,
   "id": "a7c2120a",
   "metadata": {},
   "outputs": [],
   "source": [
    "def generer_message():\n",
    "    date = datetime.datetime.now()\n",
    "    \n",
    "    message = random.choices([  [str(date.time())[:5],str(date.date()),random.choice(['Sensor1','Sensor2','Sensor3']),\n",
    "                            random.choice(['Normal','Urgent']),\n",
    "                           ]+ random.choice([['General data','Temperature',random.choice([40,36,35,33,41,42])],\n",
    "                 ['Heart data','heart Rate',random.choice([60,63,55,58,52])] ,\n",
    "                        ['Heart data','oxygène level',random.choice(['60%','65%','55%','50%'])]])+\n",
    "                         [''.join(random.choice(string.ascii_letters) for i in range(8))],\n",
    "                             [str(date.time())[:5],str(date.date()),'PC-2','Normal','Medical data','Address','QFM',\n",
    "      \n",
    "                    ''.join(random.choice(string.ascii_letters) for i in range(8))] ],weights=(90,10))\n",
    "    \n",
    "    header = ['Time','Date','Id sensor','Category','Attribute','Data type','Value','Patient']\n",
    "    \n",
    "    final_message = dict(zip(header,message[-1]))\n",
    "    \n",
    "    return final_message"
   ]
  },
  {
   "cell_type": "code",
   "execution_count": 5,
   "id": "28d41ba7",
   "metadata": {},
   "outputs": [
    {
     "data": {
      "text/plain": [
       "{'Time': '11:22',\n",
       " 'Date': '2022-05-12',\n",
       " 'Id sensor': 'Sensor1',\n",
       " 'Category': 'Urgent',\n",
       " 'Attribute': 'Heart data',\n",
       " 'Data type': 'heart Rate',\n",
       " 'Value': 58,\n",
       " 'Patient': 'wVdLtAJR'}"
      ]
     },
     "execution_count": 5,
     "metadata": {},
     "output_type": "execute_result"
    }
   ],
   "source": [
    "msg = generer_message()\n",
    "msg"
   ]
  },
  {
   "cell_type": "code",
   "execution_count": 6,
   "id": "66ac40fa",
   "metadata": {},
   "outputs": [],
   "source": [
    "#create a producer\n",
    "producer = KafkaProducer(bootstrap_servers= 'localhost:29092',\n",
    "                       value_serializer=lambda v: json.dumps(v).encode('utf-8'))\n",
    "\n"
   ]
  },
  {
   "cell_type": "code",
   "execution_count": 9,
   "id": "00a55139",
   "metadata": {},
   "outputs": [
    {
     "data": {
      "text/plain": [
       "<kafka.producer.future.FutureRecordMetadata at 0x7f1848273070>"
      ]
     },
     "execution_count": 9,
     "metadata": {},
     "output_type": "execute_result"
    }
   ],
   "source": [
    "producer.send(\"topiic\", msg)"
   ]
  },
  {
   "cell_type": "code",
   "execution_count": 39,
   "id": "2205abc8",
   "metadata": {},
   "outputs": [
    {
     "name": "stdout",
     "output_type": "stream",
     "text": [
      "{'Time': '21:50', 'Date': '2022-04-20', 'Id sensor': 'Sensor3', 'Category': 'Normal', 'Attribute': 'General data', 'Data type': 'Temperature', 'Value': 33, 'Patient': 'vmBvvUkQ'}\n"
     ]
    }
   ],
   "source": [
    "for i in range(100):\n",
    "    \n",
    "    message = generer_message()\n",
    "    topic_name = \"normal_topic\"\n",
    "\n",
    "    if message['Category'] == 'Urgent':\n",
    "        topic_name = \"urgent_topic\"\n",
    "        \n",
    "    producer.send(topic_name, message)\n",
    "    print(message)\n",
    "    sleep(2)\n",
    "    \n",
    "producer.flush()\n"
   ]
  },
  {
   "cell_type": "code",
   "execution_count": null,
   "id": "8876dc72",
   "metadata": {},
   "outputs": [],
   "source": []
  }
 ],
 "metadata": {
  "kernelspec": {
   "display_name": "Python 3 (ipykernel)",
   "language": "python",
   "name": "python3"
  },
  "language_info": {
   "codemirror_mode": {
    "name": "ipython",
    "version": 3
   },
   "file_extension": ".py",
   "mimetype": "text/x-python",
   "name": "python",
   "nbconvert_exporter": "python",
   "pygments_lexer": "ipython3",
   "version": "3.9.7"
  }
 },
 "nbformat": 4,
 "nbformat_minor": 5
}
